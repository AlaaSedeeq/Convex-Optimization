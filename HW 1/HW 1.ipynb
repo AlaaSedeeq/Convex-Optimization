{
 "cells": [
  {
   "cell_type": "code",
   "execution_count": 595,
   "id": "14cf1a1c",
   "metadata": {},
   "outputs": [],
   "source": [
    "import numpy as np\n",
    "import matplotlib.pyplot as plt\n",
    "import seaborn as sns\n",
    "\n",
    "import warnings\n",
    "warnings.filterwarnings(\"ignore\")"
   ]
  },
  {
   "cell_type": "markdown",
   "id": "a1ffc7fb",
   "metadata": {},
   "source": [
    "<img src=\"HW_1.jpg\">"
   ]
  },
  {
   "cell_type": "markdown",
   "id": "06691d3b",
   "metadata": {},
   "source": [
    "### Define system parameters"
   ]
  },
  {
   "cell_type": "code",
   "execution_count": 603,
   "id": "4d943f28",
   "metadata": {},
   "outputs": [],
   "source": [
    "G = np.array(\n",
    "    [[1  , 0.2, 0.1],               # Gain matrix\n",
    "    [0.1,   2, 0.1], \n",
    "    [0.3, 0.1,   3]\n",
    "])\n",
    "gamma = 5                         # Minimum SINR\n",
    "alpha = 1.4                       # Safety margin\n",
    "sigma = 0.01                      # Noise power "
   ]
  },
  {
   "cell_type": "markdown",
   "id": "dcd4c556",
   "metadata": {},
   "source": [
    "### Factorization"
   ]
  },
  {
   "cell_type": "code",
   "execution_count": 604,
   "id": "daf93184",
   "metadata": {},
   "outputs": [],
   "source": [
    "# initiate the matrix A\n",
    "A = np.zeros((3,3))\n",
    "# calculate over the non-diagonal elements\n",
    "for i in range(1,3):\n",
    "    for j in range(1,3):\n",
    "        if (i!=j):\n",
    "            A[i][j] = alpha*gamma*G[i][j]/G[i][i]\n",
    "                   \n",
    "# initiate the matrix b\n",
    "b = np.zeros((3,1))\n",
    "# calculate all elements\n",
    "for i in range(1,3):\n",
    "    b[i] = alpha*gamma*sigma/G[i][i]"
   ]
  },
  {
   "cell_type": "markdown",
   "id": "9ba49621",
   "metadata": {},
   "source": [
    "### Simulation (only 100 iteration)"
   ]
  },
  {
   "cell_type": "code",
   "execution_count": 625,
   "id": "69472f49",
   "metadata": {},
   "outputs": [],
   "source": [
    "num_iterations = 100;\n",
    "\n",
    "p_i = [[0.25],[0.50],[0.75]]\n",
    "       \n",
    "S = []\n",
    "S.append(\n",
    "    [G[0][0]*p_i[0][0]/(sigma+G[0][1]*p_i[1][0]+G[0][2]*p_i[2][0]),\n",
    "     G[1][1]*p_i[1][0]/(sigma+G[1][0]*p_i[0][0]+G[1][2]*p_i[2][0]),\n",
    "     G[2][2]*p_i[2][0]/(sigma+G[2][0]*p_i[0][0]+G[2][1]*p_i[1][0])])\n",
    "\n",
    "p = []\n",
    "p.append(np.array(p_i))\n",
    "\n",
    "for i in range(1, num_iterations):\n",
    "    p_i = A @ p_i + b\n",
    "    p.append(p_i)\n",
    "    SINR_current = [G[0][0]*p_i[0][0]/(sigma+G[0][1]*p_i[1][0]+G[0][2]*p_i[2][0]),\n",
    "                    G[1][1]*p_i[1][0]/(sigma+G[1][0]*p_i[0][0]+G[1][2]*p_i[2][0]),\n",
    "                    G[2][2]*p_i[2][0]/(sigma+G[2][0]*p_i[0][0]+G[2][1]*p_i[1][0])]\n",
    "    S.append(SINR_current)"
   ]
  },
  {
   "cell_type": "code",
   "execution_count": 626,
   "id": "b5e3bab8",
   "metadata": {},
   "outputs": [
    {
     "data": {
      "image/png": "[encoded data removed]",
      "text/plain": [
       "<Figure size 432x288 with 1 Axes>"
      ]
     },
     "metadata": {
      "needs_background": "light"
     },
     "output_type": "display_data"
    }
   ],
   "source": [
    "sns.lineplot(range(num_iterations), np.array(p)[:, 0].flatten())\n",
    "sns.lineplot(range(num_iterations), np.array(p)[:, 1].flatten())\n",
    "sns.lineplot(range(num_iterations), np.array(p)[:, 2].flatten());"
   ]
  },
  {
   "cell_type": "code",
   "execution_count": 627,
   "id": "6a348932",
   "metadata": {},
   "outputs": [
    {
     "data": {
      "text/plain": [
       "<AxesSubplot:>"
      ]
     },
     "execution_count": 627,
     "metadata": {},
     "output_type": "execute_result"
    },
    {
     "data": {
      "image/png": "[encoded data removed]",
      "text/plain": [
       "<Figure size 432x288 with 1 Axes>"
      ]
     },
     "metadata": {
      "needs_background": "light"
     },
     "output_type": "display_data"
    }
   ],
   "source": [
    "sns.lineplot(range(num_iterations), np.array(S)[:, 0].flatten())\n",
    "sns.lineplot(range(num_iterations), np.array(S)[:, 1].flatten())\n",
    "sns.lineplot(range(num_iterations), np.array(S)[:, 2].flatten())"
   ]
  }
 ],
 "metadata": {
  "kernelspec": {
   "display_name": "Python 3 (ipykernel)",
   "language": "python",
   "name": "python3"
  },
  "language_info": {
   "codemirror_mode": {
    "name": "ipython",
    "version": 3
   },
   "file_extension": ".py",
   "mimetype": "text/x-python",
   "name": "python",
   "nbconvert_exporter": "python",
   "pygments_lexer": "ipython3",
   "version": "3.9.7"
  }
 },
 "nbformat": 4,
 "nbformat_minor": 5
}
