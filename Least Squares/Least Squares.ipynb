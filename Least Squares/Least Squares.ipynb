{
 "cells": [
  {
   "cell_type": "markdown",
   "id": "b023b2d5",
   "metadata": {},
   "source": [
    "### Least Squares (Linear Regression)\n",
    "\n",
    "- Given:\n",
    "    - $A^{m,n}$\n",
    "    - $b∈R^m$\n",
    "    - $m > n$<br><br>\n",
    "\n",
    "- This system has a solution if $b ∈ Span(A)$, the column space of $A$, but normally this is not the case and we can only find an approximate solution.<br><br>\n",
    "- $AX = b$ has no solution, because we have $m > n$ (too many equations), or the n columns of $A$ spans a small part of $R^m$, or $e = b-AX \\neq 0$, if e is zero, then $X$ is the exact solution.<br><br>\n",
    "\n",
    "- A general approach is to:\n",
    "    - Find the prjection of $b$ onto the column space of $A$ which minimizes this errror e\n",
    "    - Then, solve $A X^{*} = P$ instead of $AX = b$<br><br>\n",
    "\n",
    "- This can be formulaize as :\n",
    "    - $\\sum_{i=1}^{m} (a_{i}^Tx - b_{i})$, also known as the $L_{2}$-norm squared $||Ax−b||_{2}$<br><br>\n",
    "- So the problem now is:\n",
    "    - minimize $\\quad$$||Ax−b||_{2}^2$"
   ]
  },
  {
   "cell_type": "code",
   "execution_count": 118,
   "id": "9106b5d3",
   "metadata": {},
   "outputs": [],
   "source": [
    "# Import packages.\n",
    "import cvxpy as cp\n",
    "import numpy as np\n",
    "import pandas as pd"
   ]
  },
  {
   "cell_type": "code",
   "execution_count": 120,
   "id": "8d264c76",
   "metadata": {},
   "outputs": [],
   "source": [
    "# import the data\n",
    "df = pd.read_csv('data/train.csv').dropna()"
   ]
  },
  {
   "cell_type": "code",
   "execution_count": 121,
   "id": "73a3ef87",
   "metadata": {},
   "outputs": [],
   "source": [
    "# define A, b\n",
    "m, n = df.shape\n",
    "\n",
    "A = df['x'].values.reshape(m, n-1)\n",
    "b = df['y'].values.reshape(m)"
   ]
  },
  {
   "cell_type": "code",
   "execution_count": 122,
   "id": "4106e561",
   "metadata": {
    "scrolled": true
   },
   "outputs": [
    {
     "name": "stdout",
     "output_type": "stream",
     "text": [
      "The optimal X is      0.9990494774684007\n",
      "The optimal Y is  5501.5758782401135\n",
      "The norm of the residual is  74.17260867894639\n"
     ]
    }
   ],
   "source": [
    "# X variable\n",
    "x = cp.Variable(n-1)\n",
    "\n",
    "# define the cost function to be minimized\n",
    "cost = cp.sum_squares(A @ x - b)\n",
    "\n",
    "# Solve the problem\n",
    "prob = cp.Problem(cp.Minimize(cost))\n",
    "prob.solve()\n",
    "\n",
    "# Print result.\n",
    "print(\"The optimal X is     \", x.value[0])\n",
    "print(\"The optimal Y is \", prob.value)\n",
    "print(\"The norm of the residual is \", cp.norm(A @ x - b, p=2).value)"
   ]
  }
 ],
 "metadata": {
  "kernelspec": {
   "display_name": "Python 3 (ipykernel)",
   "language": "python",
   "name": "python3"
  },
  "language_info": {
   "codemirror_mode": {
    "name": "ipython",
    "version": 3
   },
   "file_extension": ".py",
   "mimetype": "text/x-python",
   "name": "python",
   "nbconvert_exporter": "python",
   "pygments_lexer": "ipython3",
   "version": "3.9.7"
  }
 },
 "nbformat": 4,
 "nbformat_minor": 5
}
